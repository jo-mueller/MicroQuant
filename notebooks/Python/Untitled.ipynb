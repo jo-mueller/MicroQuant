{
 "cells": [
  {
   "cell_type": "markdown",
   "id": "b657e797",
   "metadata": {},
   "source": [
    "# H&E image segmentation\n",
    "\n",
    "This notebook demonstrates how to use a trained pytorch segmentation model to an input H&E image. Let's get started!"
   ]
  },
  {
   "cell_type": "markdown",
   "id": "c9b73a6e",
   "metadata": {},
   "source": [
    "Import dependencies from MicroQuant functions."
   ]
  },
  {
   "cell_type": "code",
   "execution_count": 1,
   "id": "fdcebd7c",
   "metadata": {},
   "outputs": [],
   "source": [
    "import sys\n",
    "sys.path.append('../../microquant')"
   ]
  },
  {
   "cell_type": "code",
   "execution_count": null,
   "id": "e9d3cfcc",
   "metadata": {},
   "outputs": [],
   "source": []
  }
 ],
 "metadata": {
  "kernelspec": {
   "display_name": "Python 3",
   "language": "python",
   "name": "python3"
  },
  "language_info": {
   "codemirror_mode": {
    "name": "ipython",
    "version": 3
   },
   "file_extension": ".py",
   "mimetype": "text/x-python",
   "name": "python",
   "nbconvert_exporter": "python",
   "pygments_lexer": "ipython3",
   "version": "3.8.11"
  }
 },
 "nbformat": 4,
 "nbformat_minor": 5
}
